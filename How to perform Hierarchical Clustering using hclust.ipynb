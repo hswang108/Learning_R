{
 "cells": [
  {
   "cell_type": "markdown",
   "metadata": {},
   "source": [
    "How to perform Hierarchical Clustering using `hclust`\n",
    "========================================================\n",
    "\n",
    "`hierarchical clustering` is a method of cluster analysis which seeks to build a hierarchy of clusters.  Strategies for hierarchical clustering generally fall into two types:\n",
    "\n",
    "- **Agglomerative**: This is a \"bottom up\" approach: each observation starts in its own cluster, and pairs of clusters are merged as one moves up the hierarchy.\n",
    "- **Divisive**: This is a \"top down\" approach: all observations start in one cluster, and splits are performed recursively as one moves down the hierarchy.\n",
    "\n",
    "\n",
    "\n",
    "Draw a sample of 40 records from iris data, and remove variable Species"
   ]
  },
  {
   "cell_type": "code",
   "execution_count": null,
   "metadata": {},
   "outputs": [],
   "source": [
    "%%R\n",
    "idx  <- sample(1:dim(iris)[1],40)\n",
    "irisSample  <- iris[idx,]\n",
    "irisSample$Species  <- NULL"
   ]
  },
  {
   "cell_type": "markdown",
   "metadata": {},
   "source": [
    "Hierarchial Clustering"
   ]
  },
  {
   "cell_type": "code",
   "execution_count": null,
   "metadata": {},
   "outputs": [],
   "source": [
    "%%R\n",
    "hc  <- hclust(dist(irisSample), method=\"ave\")\n",
    "plot(hc, hang = -1, labels = iris$Species[idx])"
   ]
  },
  {
   "cell_type": "markdown",
   "metadata": {},
   "source": [
    "Reference \n",
    "- https://en.wikipedia.org/wiki/Hierarchical_clustering"
   ]
  }
 ],
 "metadata": {},
 "nbformat": 4,
 "nbformat_minor": 2
}
