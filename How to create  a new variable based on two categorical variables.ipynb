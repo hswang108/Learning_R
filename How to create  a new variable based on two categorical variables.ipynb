{
 "cells": [
  {
   "cell_type": "markdown",
   "metadata": {},
   "source": [
    "How to create a new variable based on two categorical variables\n",
    "====\n",
    "\n",
    "In statistics, a `categorical variable` is a variable that can take on one of a limited, and usually fixed, number of possible values, thus assigning each individual to a particular group or \"category.\"\n",
    "\n",
    "\n",
    "I have two categorical variables a & b."
   ]
  },
  {
   "cell_type": "code",
   "execution_count": null,
   "metadata": {},
   "outputs": [],
   "source": [
    "%%R\n",
    "a = sample(0:1, size=10, replace=T )\n",
    "b = sample(0:1, size=10, replace=T )"
   ]
  },
  {
   "cell_type": "markdown",
   "metadata": {},
   "source": [
    "I want to create a new variable c, whose values depend on a & b in such a way:"
   ]
  },
  {
   "cell_type": "code",
   "execution_count": null,
   "metadata": {},
   "outputs": [],
   "source": [
    "%%R\n",
    "c = vector(length=10)\n",
    "c[a==1 & b==1] = 1\n",
    "c[a==1 & b==0] = 2\n",
    "c[a==0 & b==1] = 3\n",
    "c[a==0 & b==0] = 4"
   ]
  }
 ],
 "metadata": {},
 "nbformat": 4,
 "nbformat_minor": 2
}
