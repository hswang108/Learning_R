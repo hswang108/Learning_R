{
 "cells": [
  {
   "cell_type": "markdown",
   "metadata": {},
   "source": [
    "Human Activity Recognition Using Smartphones\n",
    "========================================================\n",
    "http://rpubs.com/wangwf/19053\n",
    "\n",
    "One of the most exciting areas in all of data science right now is wearable computing - see for example this article.\n",
    "\n",
    "Data set information was download from [http://archive.ics.uci.edu/ml/datasets/Human+Activity+Recognition+Using+Smartphones](http://archive.ics.uci.edu/ml/datasets/Human+Activity+Recognition+Using+Smartphones). \n",
    "\n",
    "\"The experiments have been carried out with a group of 30 volunteers within an age bracket of 19-48 years. Each person performed six activities (WALKING, WALKING UPSTAIRS, WALKING DOWNSTAIRS, SITTING, STANDING, LAYING) wearing a smartphone (Samsung Galaxy S II) on the waist. Using its embedded accelerometer and gyroscope, we captured 3-axial linear acceleration and 3-axial angular velocity at a constant rate of 50Hz. The experiments have been video-recorded to label the data manually. The obtained dataset has been randomly partitioned into two sets, where 70% of the volunteers was selected for generating the training data and 30% the test data. The sensor signals (accelerometer and gyroscope) were pre-processed by applying noise filters and then sampled in fixed-width sliding windows of 2.56 sec and 50% overlap (128 readings/window). The sensor acceleration signal, which has gravitational and body motion components, was separated using a Butterworth low-pass filter into body acceleration and gravity. The gravitational force is assumed to have only low frequency components, therefore a filter with 0.3 Hz cutoff frequency was used. From each window, a vector of features was obtained by calculating variables from the time and frequency domain.”\n",
    "\n",
    "For each record in the raw dataset it is provided:"
   ]
  },
  {
   "cell_type": "code",
   "execution_count": null,
   "metadata": {},
   "outputs": [],
   "source": [
    "* Triaxial acceleration from the accelerometer (total acceleration) and the estimated body acceleration.\n",
    "* Triaxial Angular velocity from the gyroscope.\n",
    "* A 561-feature vector with time and frequency domain variables.\n",
    "* Its activity label.\n",
    "* An identifier of the subject who carried out the experiment."
   ]
  },
  {
   "cell_type": "markdown",
   "metadata": {},
   "source": [
    "Step#1 download and unzip files"
   ]
  },
  {
   "cell_type": "code",
   "execution_count": null,
   "metadata": {},
   "outputs": [],
   "source": [
    "%%R\n",
    "downloadFiles <- function(dataURL = \"\", destF = \"t.csv\") {\n",
    "    if (!file.exists(destF)) {\n",
    "        download.file(dataURL, destF, method = \"wget\")\n",
    "    } else {\n",
    "        message(\"data already downloaded.\")\n",
    "    }\n",
    "}"
   ]
  },
  {
   "cell_type": "code",
   "execution_count": null,
   "metadata": {},
   "outputs": [],
   "source": [
    "%%R\n",
    "dataURL = \"http://archive.ics.uci.edu/ml/machine-learning-databases/00240/UCI%20HAR%20Dataset.zip\"\n",
    "destF = \"UCI HAR Dataset.zip\"\n",
    "downloadFiles(dataURL,destF)"
   ]
  },
  {
   "cell_type": "markdown",
   "metadata": {},
   "source": [
    "Extract the file."
   ]
  },
  {
   "cell_type": "code",
   "execution_count": null,
   "metadata": {},
   "outputs": [],
   "source": [
    "%%R\n",
    "if (!file.exists(\"UCI HAR Dataset\")) unzip(destF)"
   ]
  },
  {
   "cell_type": "markdown",
   "metadata": {},
   "source": [
    "Check the files."
   ]
  },
  {
   "cell_type": "code",
   "execution_count": null,
   "metadata": {},
   "outputs": [],
   "source": [
    "%%R\n",
    "system(\"ls\")"
   ]
  },
  {
   "cell_type": "code",
   "execution_count": null,
   "metadata": {},
   "outputs": [],
   "source": [
    "%%R\n",
    "nsampleSize = -1L\n",
    "train <- readData(\"UCI_HAR_Dataset/train\", \"train\", nsampleSize)\n",
    "test <- readData(\"UCI_HAR_Dataset/test\", \"test\", nsampleSize)"
   ]
  },
  {
   "cell_type": "code",
   "execution_count": null,
   "metadata": {},
   "outputs": [],
   "source": [
    "%%R\n",
    "train <- transform(train, subjectID = factor(subjectID), activityID = factor(activityID))\n",
    "test <- transform(test, subjectID = factor(subjectID), activityID = factor(activityID))\n",
    "\n",
    "train$partition = \"train\"\n",
    "test$partition = \"test\"\n",
    "samsungData <- rbind(train, test)\n",
    "summary(samsungData$subjectID)"
   ]
  },
  {
   "cell_type": "markdown",
   "metadata": {},
   "source": [
    "This function loads a file <f> from a zip archive <zipfile>\n",
    "Prints a message with the indented filename <f>"
   ]
  },
  {
   "cell_type": "code",
   "execution_count": null,
   "metadata": {},
   "outputs": [],
   "source": [
    "%%R\n",
    "load.with.msg <- function (zipfile, f) {\n",
    "    message(sprintf(\"    \\\"%s\\\"\", f))\n",
    "    df <- read.table(unz(zipfile, f))\n",
    "    df\n",
    "}"
   ]
  },
  {
   "cell_type": "code",
   "execution_count": null,
   "metadata": {},
   "outputs": [],
   "source": [
    "%%R\n",
    "# Local file to store the compressed data\n",
    "raw.data.file <- \"UCI_HAR_Dataset.zip\""
   ]
  },
  {
   "cell_type": "markdown",
   "metadata": {},
   "source": [
    "############################################################\n",
    "# Loading data from zip file                               # \n",
    "############################################################"
   ]
  },
  {
   "cell_type": "code",
   "execution_count": null,
   "metadata": {},
   "outputs": [],
   "source": [
    "%%R\n",
    "message(\"\\nLoading metadata...\")\n",
    "activity_labels <- load.with.msg(raw.data.file, zfilename.activity_labels)\n",
    "features <- load.with.msg(raw.data.file, zfilename.features)\n",
    "\n",
    "# Load training data\n",
    "message(\"Loading training data (can take some time...)\")\n",
    "data.train <- lapply(load.list.train, \n",
    "                     function(f) load.with.msg(raw.data.file, f))\n",
    "\n",
    "\n",
    "message(\"Loading test data (can take some time...)\")\n",
    "# Load test data\n",
    "data.test <- lapply(load.list.test, \n",
    "                     function(f) load.with.msg(raw.data.file, f))\n",
    "\n",
    "# Check if loaded trainign and test dataframes have same number of cols \n",
    "assertion.datacols <- identical(lapply(data.train, FUN=ncol), \n",
    "                                lapply(data.test, FUN=ncol))\n",
    "\n",
    "message(sprintf(\"Checking if training and test data sets %s: %s\", \n",
    "                \"have same number of columns\", \n",
    "                assertion.datacols))\n",
    "\n",
    "if (!assertion.datacols) {\n",
    "    stop(\"Training and test data sets must have same number of columns!\")\n",
    "}"
   ]
  },
  {
   "cell_type": "code",
   "execution_count": null,
   "metadata": {},
   "outputs": [],
   "source": [
    "%%R\n",
    "assertion.datanames <- identical(sort(names.train), sort(names.test))\n",
    "\n",
    "message(sprintf(\"Checking if same files exist for training and test data: %s\",\n",
    "                assertion.datanames))\n",
    "\n",
    "if (!assertion.datanames) {\n",
    "    stop(\"Training and test data must have same file structure!\")\n",
    "}"
   ]
  }
 ],
 "metadata": {},
 "nbformat": 4,
 "nbformat_minor": 2
}
