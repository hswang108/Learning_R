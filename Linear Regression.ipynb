{
 "cells": [
  {
   "cell_type": "markdown",
   "metadata": {},
   "source": [
    "Linear Regression\n",
    "========================================================\n",
    "\n",
    "\n",
    "`linear regression` is an approach for modeling the relationship between a scalar dependent variable y and one or more explanatory variables (or independent variable) denoted X. The case of one explanatory variable is called simple linear regression.\n",
    "\n",
    "![](https://upload.wikimedia.org/wikipedia/commons/thumb/3/3a/Linear_regression.svg/400px-Linear_regression.svg.png)\n",
    "\n",
    "Create and Load data"
   ]
  },
  {
   "cell_type": "code",
   "execution_count": null,
   "metadata": {},
   "outputs": [],
   "source": [
    "%%R\n",
    "year  <- rep(2008:2010, each=4)\n",
    "quarter  <- rep(1:4, 3)\n",
    "cpi  <- c(162.2, 164.6, 166.5, 166.0,\n",
    "          166.2, 167.0, 168.6, 169.5,\n",
    "          171.0, 172.1, 173.3, 174.0)\n",
    "plot(cpi, xaxt=\"n\", ylab=\"CPI\", xlab=\"\")\n",
    "\n",
    "# draw x-axis\n",
    "axis(1, labels=paste(year,quarter,sep=\"Q\"), at=1:12, las=3)"
   ]
  },
  {
   "cell_type": "markdown",
   "metadata": {},
   "source": [
    "Check correlation between CPI and other variable"
   ]
  },
  {
   "cell_type": "code",
   "execution_count": null,
   "metadata": {},
   "outputs": [],
   "source": [
    "%%R\n",
    "cor(year, cpi)"
   ]
  },
  {
   "cell_type": "code",
   "execution_count": null,
   "metadata": {},
   "outputs": [],
   "source": [
    "%%R\n",
    "cor(quarter, cpi)"
   ]
  },
  {
   "cell_type": "markdown",
   "metadata": {},
   "source": [
    "Build linear regression model with `lm()` function on this data, using year and quarter as predicators and CPI as response."
   ]
  },
  {
   "cell_type": "code",
   "execution_count": null,
   "metadata": {},
   "outputs": [],
   "source": [
    "%%R\n",
    "fit  <- lm(cpi ~ year + quarter)\n",
    "fit"
   ]
  },
  {
   "cell_type": "markdown",
   "metadata": {},
   "source": [
    "Predict CPI in 2011"
   ]
  },
  {
   "cell_type": "code",
   "execution_count": null,
   "metadata": {},
   "outputs": [],
   "source": [
    "%%R\n",
    "(cpi2011 <- fit$coefficients[[1]] + fit$coefficients[[2]]*2011 +\n",
    "   fit$coefficients[[3]]*(1:4))"
   ]
  },
  {
   "cell_type": "markdown",
   "metadata": {},
   "source": [
    "More details about the model ."
   ]
  },
  {
   "cell_type": "code",
   "execution_count": null,
   "metadata": {},
   "outputs": [],
   "source": [
    "%%R\n",
    "attributes(fit)"
   ]
  },
  {
   "cell_type": "code",
   "execution_count": null,
   "metadata": {},
   "outputs": [],
   "source": [
    "%%R\n",
    "fit$coefficients"
   ]
  },
  {
   "cell_type": "markdown",
   "metadata": {},
   "source": [
    "The differences between observed values and fitted values can be obtained with function `residuals()`."
   ]
  },
  {
   "cell_type": "code",
   "execution_count": null,
   "metadata": {},
   "outputs": [],
   "source": [
    "%%R\n",
    "residuals(fit)"
   ]
  },
  {
   "cell_type": "code",
   "execution_count": null,
   "metadata": {},
   "outputs": [],
   "source": [
    "%%R\n",
    "summary(fit)"
   ]
  },
  {
   "cell_type": "markdown",
   "metadata": {},
   "source": [
    "Plot the model"
   ]
  },
  {
   "cell_type": "code",
   "execution_count": null,
   "metadata": {},
   "outputs": [],
   "source": [
    "%%R\n",
    "par(mfrow=c(2,2))\n",
    "plot(fit)"
   ]
  },
  {
   "cell_type": "markdown",
   "metadata": {},
   "source": [
    "plot the model in 3D\n",
    "-------\n",
    "\n",
    "\n",
    "- `scatterplot3d()` creates a 3D scatter plot and `plane3d()` draws the fitted plane.\n",
    "- Parameter `lab` specifies the number of tickmarks on the x- and y-axes."
   ]
  },
  {
   "cell_type": "code",
   "execution_count": null,
   "metadata": {},
   "outputs": [],
   "source": [
    "%%R\n",
    "par(mfrow=c(1,1))\n",
    "#install.packages('scatterplot3d', dep=T)\n",
    "library(scatterplot3d)\n",
    "s3d  <- scatterplot3d(year, quarter, cpi, highlight.3d=T, \n",
    "                      type=\"h\", lab=c(2,3))\n",
    "\n",
    "s3d$plane3d(fit)"
   ]
  },
  {
   "cell_type": "markdown",
   "metadata": {},
   "source": [
    "Predict cpi in 2011"
   ]
  },
  {
   "cell_type": "code",
   "execution_count": null,
   "metadata": {},
   "outputs": [],
   "source": [
    "%%R\n",
    "data2011  <- data.frame(year=2011, quarter = 1:4)\n",
    "cpi2011  <- predict(fit, newdata = data2011)\n",
    "style  <- c(rep(1,12), rep(2,4))\n",
    "plot(c(cpi, cpi2011), xaxt=\"n\", ylab=\"CPI\", xlab=\"\", pch=style, col=style)\n",
    "\n",
    "axis(1, at=1:16, las=3,\n",
    "     labels=c(paste(year,quarter,sep=\"Q\"), \"2011Q1\", \"2011Q2\", \"2011Q3\", \"2011Q4\"))"
   ]
  }
 ],
 "metadata": {},
 "nbformat": 4,
 "nbformat_minor": 2
}
