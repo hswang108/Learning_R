{
 "cells": [
  {
   "cell_type": "markdown",
   "metadata": {},
   "source": [
    "Topicmodeling: Illustrative example: Abstracts of JSS papers\n",
    "========================================================\n",
    "Get Data"
   ]
  },
  {
   "cell_type": "code",
   "execution_count": null,
   "metadata": {},
   "outputs": [],
   "source": [
    "%%R\n",
    "#install.packages(\"corpus.JSS.papers\", repos = \"http://datacube.wu.ac.at/\", type = \"source\")\n",
    "data(\"JSS_papers\", package = \"corpus.JSS.papers\")"
   ]
  },
  {
   "cell_type": "markdown",
   "metadata": {},
   "source": [
    "For reproducibility of results we use only abstracts published up to 2010-08-05 and omit those containing non-ASCII characters in the abstracts."
   ]
  },
  {
   "cell_type": "code",
   "execution_count": null,
   "metadata": {},
   "outputs": [],
   "source": [
    "%%R\n",
    "JSS_papers <- JSS_papers[JSS_papers[,\"date\"] < \"2010-08-05\",];dim(JSS_papers)\n",
    "JSS_papers <- JSS_papers[sapply(JSS_papers[, \"description\"],Encoding) == \"unknown\",];dim(JSS_papers)"
   ]
  },
  {
   "cell_type": "code",
   "execution_count": null,
   "metadata": {},
   "outputs": [],
   "source": [
    "%%R\n",
    "dim(JSS_papers)\n",
    "prod(dim(JSS_papers))"
   ]
  },
  {
   "cell_type": "markdown",
   "metadata": {},
   "source": [
    "tm -- \n",
    "\n",
    "\n",
    "The final data set contains 348 documents. Before analysis we transform it to a \"Corpus\" using package tm. \n",
    "HTML markup in the abstracts for greek letters, subscripting, etc., is removed using package XML"
   ]
  },
  {
   "cell_type": "code",
   "execution_count": null,
   "metadata": {},
   "outputs": [],
   "source": [
    "%%R\n",
    "#install.packages('tm', dep=T)\n",
    "#install.packages('XML', dep=T)\n",
    "library(\"tm\")\n",
    "library(\"XML\")"
   ]
  },
  {
   "cell_type": "code",
   "execution_count": null,
   "metadata": {},
   "outputs": [],
   "source": [
    "%%R\n",
    "remove_HTML_markup <- function(s) tryCatch({\n",
    " doc <- htmlTreeParse(paste(\"<!DOCTYPE html>\", s), asText = TRUE, trim = FALSE)\n",
    " xmlValue(xmlRoot(doc))\n",
    " }, error = function(s) s)"
   ]
  },
  {
   "cell_type": "code",
   "execution_count": null,
   "metadata": {},
   "outputs": [],
   "source": [
    "%%R\n",
    "?Corpus\n",
    "?VectorSource"
   ]
  },
  {
   "cell_type": "code",
   "execution_count": null,
   "metadata": {},
   "outputs": [],
   "source": [
    "%%R\n",
    "JSS_papers[, \"description\"][1]\n",
    "sapply(JSS_papers[, \"description\"][1],remove_HTML_markup)\n",
    "\n",
    "\n",
    "VectorSource(sapply(JSS_papers[, \"description\"][1],remove_HTML_markup))\n",
    "\n",
    "\n",
    "c  <- Corpus(VectorSource(sapply(JSS_papers[, \"description\"][1],remove_HTML_markup)));c"
   ]
  },
  {
   "cell_type": "code",
   "execution_count": null,
   "metadata": {},
   "outputs": [],
   "source": [
    "%%R\n",
    "corpus <- Corpus(VectorSource(sapply(JSS_papers[, \"description\"],\n",
    "                                     remove_HTML_markup)));corpus"
   ]
  },
  {
   "cell_type": "code",
   "execution_count": null,
   "metadata": {},
   "outputs": [],
   "source": [
    "%%R\n",
    "class(corpus)\n",
    "mode(corpus)"
   ]
  },
  {
   "cell_type": "markdown",
   "metadata": {},
   "source": [
    "The corpus is exported to a document-term matrix using function DocumentTermMatrix()\n",
    "from package tm. The terms are stemmed and the stop words, punctuation, numbers and\n",
    "terms of length less than 3 are removed using the control argument. (We use a C locale for reproducibility.)"
   ]
  },
  {
   "cell_type": "code",
   "execution_count": null,
   "metadata": {},
   "outputs": [],
   "source": [
    "%%R\n",
    "Sys.setlocale(\"LC_COLLATE\", \"C\")"
   ]
  },
  {
   "cell_type": "code",
   "execution_count": null,
   "metadata": {},
   "outputs": [],
   "source": [
    "%%R\n",
    "JSS_dtm <- DocumentTermMatrix(corpus,\n",
    " control = list(stemming = TRUE, stopwords = TRUE, minWordLength = 3,\n",
    " removeNumbers = TRUE, removePunctuation = TRUE))"
   ]
  },
  {
   "cell_type": "code",
   "execution_count": null,
   "metadata": {},
   "outputs": [],
   "source": [
    "%%R\n",
    "str(JSS_dtm)"
   ]
  },
  {
   "cell_type": "code",
   "execution_count": null,
   "metadata": {},
   "outputs": [],
   "source": [
    "%%R\n",
    "names(JSS_dtm)"
   ]
  },
  {
   "cell_type": "code",
   "execution_count": null,
   "metadata": {},
   "outputs": [],
   "source": [
    "%%R\n",
    "class(JSS_dtm)"
   ]
  },
  {
   "cell_type": "code",
   "execution_count": null,
   "metadata": {},
   "outputs": [],
   "source": [
    "%%R\n",
    "mode(JSS_dtm)"
   ]
  },
  {
   "cell_type": "markdown",
   "metadata": {},
   "source": [
    "Document term Martix"
   ]
  },
  {
   "cell_type": "code",
   "execution_count": null,
   "metadata": {},
   "outputs": [],
   "source": [
    "%%R\n",
    "JSS_dtm # all documents & All (4289) terms \n",
    "JSS_dtm[1,] # 1st Document and all (4289) terms\n",
    "JSS_dtm[,1] # All documents and First term"
   ]
  },
  {
   "cell_type": "code",
   "execution_count": null,
   "metadata": {},
   "outputs": [],
   "source": [
    "%%R\n",
    "JSS_dtm$nrow; #348\n",
    "JSS_dtm$ncol # 4289\n",
    "length(JSS_dtm$i) # 19509\n",
    "length(JSS_dtm$j) # 19509\n",
    "length(JSS_dtm$v) # 19609"
   ]
  },
  {
   "cell_type": "markdown",
   "metadata": {},
   "source": [
    "Document"
   ]
  },
  {
   "cell_type": "code",
   "execution_count": null,
   "metadata": {},
   "outputs": [],
   "source": [
    "%%R\n",
    "range(JSS_dtm$i)  # 1 - 348"
   ]
  },
  {
   "cell_type": "markdown",
   "metadata": {},
   "source": [
    "Term"
   ]
  },
  {
   "cell_type": "code",
   "execution_count": null,
   "metadata": {},
   "outputs": [],
   "source": [
    "%%R\n",
    "range(JSS_dtm$j)  # 1 - 4289"
   ]
  },
  {
   "cell_type": "markdown",
   "metadata": {},
   "source": [
    "Frequency"
   ]
  },
  {
   "cell_type": "code",
   "execution_count": null,
   "metadata": {},
   "outputs": [],
   "source": [
    "%%R\n",
    "range(JSS_dtm$v)  # 1 - 14"
   ]
  },
  {
   "cell_type": "code",
   "execution_count": null,
   "metadata": {},
   "outputs": [],
   "source": [
    "\n",
    "Number of terms whose frequency is 0\n",
    "\n",
    "```r\n",
    "sum(JSS_dtm$v == 0)"
   ]
  },
  {
   "cell_type": "markdown",
   "metadata": {},
   "source": [
    "Number of terms whose frequency is 1"
   ]
  },
  {
   "cell_type": "code",
   "execution_count": null,
   "metadata": {},
   "outputs": [],
   "source": [
    "%%R\n",
    "sum(JSS_dtm$v == 1)"
   ]
  },
  {
   "cell_type": "markdown",
   "metadata": {},
   "source": [
    "Number of terms with frequency 13"
   ]
  },
  {
   "cell_type": "code",
   "execution_count": null,
   "metadata": {},
   "outputs": [],
   "source": [
    "%%R\n",
    "sum(JSS_dtm$v == 13)"
   ]
  },
  {
   "cell_type": "markdown",
   "metadata": {},
   "source": [
    "Number of terms with frequency 14"
   ]
  },
  {
   "cell_type": "code",
   "execution_count": null,
   "metadata": {},
   "outputs": [],
   "source": [
    "%%R\n",
    "sum(JSS_dtm$v == 14)"
   ]
  },
  {
   "cell_type": "markdown",
   "metadata": {},
   "source": [
    "plot of frequencies"
   ]
  },
  {
   "cell_type": "code",
   "execution_count": null,
   "metadata": {},
   "outputs": [],
   "source": [
    "%%R\n",
    "#install.packages('ggplot2',dep=T)\n",
    "library(ggplot2)\n",
    "qplot(JSS_dtm$v)"
   ]
  },
  {
   "cell_type": "markdown",
   "metadata": {},
   "source": [
    "e mean term frequency-inverse document frequency (tf-idf) over documents containing this term is used to select the vocabulary. This measure allows to omit terms which have low frequency as well as those occurring in many documents. We only include terms which have a tf-idf value of at least 0.1 which is a bit more than the median and ensures that the very frequent terms are omitted.\n",
    "\n",
    "slam: Sparse Lightweight Arrays and Matrices\n",
    "\n",
    "Data structures and algorithms for sparse arrays and matrices, based on index arrays and simple triplet representations, respectively.\n",
    "\n",
    "Load Slam package"
   ]
  },
  {
   "cell_type": "code",
   "execution_count": null,
   "metadata": {},
   "outputs": [],
   "source": [
    "%%R\n",
    "library(\"slam\")"
   ]
  },
  {
   "cell_type": "markdown",
   "metadata": {},
   "source": [
    "`col_sums`: Form row and column sums and means for sparse arrays (currently `simple_triplet_matrix` only)."
   ]
  },
  {
   "cell_type": "code",
   "execution_count": null,
   "metadata": {},
   "outputs": [],
   "source": [
    "%%R\n",
    "?col_sums"
   ]
  },
  {
   "cell_type": "markdown",
   "metadata": {},
   "source": [
    "rows is the documents \n",
    "columns are the terms \n",
    "\n",
    "Gives terms and their frequencies"
   ]
  },
  {
   "cell_type": "code",
   "execution_count": null,
   "metadata": {},
   "outputs": [],
   "source": [
    "%%R\n",
    "JSS_dtm$ncol #4289\n",
    "length(col_sums(JSS_dtm)) #4289\n",
    "length(JSS_dtm$j) #19509\n",
    "length(JSS_dtm$v) #19509\n",
    "JSS_dtm$nrow #348\n",
    "JSS_dtm"
   ]
  },
  {
   "cell_type": "code",
   "execution_count": null,
   "metadata": {},
   "outputs": [],
   "source": [
    "%%R\n",
    "head(col_sums(JSS_dtm))"
   ]
  },
  {
   "cell_type": "code",
   "execution_count": null,
   "metadata": {},
   "outputs": [],
   "source": [
    "%%R\n",
    "str(col_sums(JSS_dtm))"
   ]
  },
  {
   "cell_type": "code",
   "execution_count": null,
   "metadata": {},
   "outputs": [],
   "source": [
    "%%R\n",
    "class(col_sums(JSS_dtm))"
   ]
  },
  {
   "cell_type": "markdown",
   "metadata": {},
   "source": [
    "Distribution of term frequencies - Skewed"
   ]
  },
  {
   "cell_type": "code",
   "execution_count": null,
   "metadata": {},
   "outputs": [],
   "source": [
    "%%R\n",
    "summary(col_sums(JSS_dtm))\n",
    "#qplot(col_sums(JSS_dtm))"
   ]
  },
  {
   "cell_type": "markdown",
   "metadata": {},
   "source": [
    "The mean term frequency-inverse document frequency (tf-idf) over documents containing this term is used to select the vocabulary. This measure allows to omit terms which have low frequency as well as those occurring in many documents. We only include terms which have a tf-idf value of at least 0.1 which is a bit more than the median and ensures that the very frequent terms are omitted."
   ]
  },
  {
   "cell_type": "code",
   "execution_count": null,
   "metadata": {},
   "outputs": [],
   "source": [
    "%%R\n",
    "term_tfidf <-\n",
    " tapply(JSS_dtm$v/row_sums(JSS_dtm)[JSS_dtm$i], \n",
    "        JSS_dtm$j, mean) * log2(nDocs(JSS_dtm)/col_sums(JSS_dtm > 0))"
   ]
  },
  {
   "cell_type": "code",
   "execution_count": null,
   "metadata": {},
   "outputs": [],
   "source": [
    "%%R\n",
    "?tapply"
   ]
  },
  {
   "cell_type": "code",
   "execution_count": null,
   "metadata": {},
   "outputs": [],
   "source": [
    "%%R\n",
    "str(term_tfidf)\n",
    "length(term_tfidf)  # 4289\n",
    "class(term_tfidf) \n",
    "#attributes(term_tfidf)\n",
    "head(term_tfidf)"
   ]
  },
  {
   "cell_type": "markdown",
   "metadata": {},
   "source": [
    "Distribution - Slightly less skewed"
   ]
  },
  {
   "cell_type": "code",
   "execution_count": null,
   "metadata": {},
   "outputs": [],
   "source": [
    "%%R\n",
    "summary(term_tfidf)\n",
    "qplot(term_tfidf)"
   ]
  },
  {
   "cell_type": "code",
   "execution_count": null,
   "metadata": {},
   "outputs": [],
   "source": [
    "%%R\n",
    "dim(JSS_dtm)  # 348 4289\n",
    "length(term_tfidf)  # 4289\n",
    "sum(term_tfidf >= 0.1) # 2086\n",
    "\n",
    "JSS_dtm <- JSS_dtm[,term_tfidf >= 0.1];\n",
    "JSS_dtm$nrow\n",
    "JSS_dtm <- JSS_dtm[row_sums(JSS_dtm) > 0,]\n",
    "JSS_dtm$nrow\n",
    "summary(col_sums(JSS_dtm))\n",
    "JSS_dtm"
   ]
  },
  {
   "cell_type": "code",
   "execution_count": null,
   "metadata": {},
   "outputs": [],
   "source": [
    "%%R\n",
    "summary(col_sums(JSS_dtm))  # 1 - 47 \n",
    "qplot(col_sums(JSS_dtm))"
   ]
  },
  {
   "cell_type": "code",
   "execution_count": null,
   "metadata": {},
   "outputs": [],
   "source": [
    "%%R\n",
    "#install.packages('topicmodels',dep=T)\n",
    "library(\"topicmodels\")"
   ]
  }
 ],
 "metadata": {},
 "nbformat": 4,
 "nbformat_minor": 2
}
